{
 "cells": [
  {
   "cell_type": "code",
   "execution_count": 1,
   "metadata": {
    "collapsed": true
   },
   "outputs": [],
   "source": [
    "## library\n",
    "from pyspark import StorageLevel\n",
    "from pyspark.sql.functions import * #col, to_date, unix_timestamp\n",
    "from pyspark.sql import SQLContext\n",
    "from pyspark.sql.types import *\n",
    "from pyspark.sql.window import Window\n",
    "import numpy as np\n",
    "import pandas as pd\n",
    "import datetime\n",
    "import shutil\n",
    "pd.set_option(\"display.max_rows\", 500)\n",
    "pd.set_option(\"display.max_columns\", 500)\n",
    "## Function\n",
    "\n",
    "def sqlread(txtsql):\n",
    "    \"\"\"\n",
    "    Carga los datos de una sql\n",
    "    \"\"\"\n",
    "    url = \"jdbc:postgresql://poolpostgresxl.marathon.mesos:5432/\" + \\\n",
    "              \"mutua?user=analytic\" + \\\n",
    "              \"&ssl=true&sslmode=verify-ca&sslcert=&sslcert=/tmp/cert.crt&sslrootcert=/tmp/caroot.crt&sslkey=/tmp/key.pkcs8\"\n",
    "    options = {\"driver\":\"org.postgresql.Driver\",\"prepareThreshold\":\"0\"}\n",
    "    rst = spark.read.format(\"jdbc\").options(url=url,dbtable=txtsql,properties=options).load()\n",
    "    return rst"
   ]
  },
  {
   "cell_type": "code",
   "execution_count": 3,
   "metadata": {
    "collapsed": false
   },
   "outputs": [
    {
     "name": "stdout",
     "output_type": "stream",
     "text": [
      "250336\n"
     ]
    }
   ],
   "source": [
    "veto = sqlread(\"(\\\n",
    "SELECT * FROM scoring.tqasolde where qasolde_fec_umod>='20180301') t\")\n",
    "veto.persist()\n",
    "print(veto.count())"
   ]
  },
  {
   "cell_type": "code",
   "execution_count": 4,
   "metadata": {
    "collapsed": false
   },
   "outputs": [
    {
     "name": "stdout",
     "output_type": "stream",
     "text": [
      "root\n",
      " |-- qasolde_id_empresa: short (nullable = false)\n",
      " |-- qasolde_id_ramo: short (nullable = false)\n",
      " |-- qasolde_id_solicit: long (nullable = false)\n",
      " |-- qasolde_mom_situac: timestamp (nullable = false)\n",
      " |-- qasolde_tipo_regla: string (nullable = false)\n",
      " |-- qasolde_nombre_regla: string (nullable = true)\n",
      " |-- qasolde_vers_regla: long (nullable = true)\n",
      " |-- qasolde_ambito_aplica: string (nullable = true)\n",
      " |-- qasolde_formula_condicion: string (nullable = true)\n",
      " |-- qasolde_usu_umod: string (nullable = true)\n",
      " |-- qasolde_fec_umod: timestamp (nullable = true)\n",
      " |-- fec_generacion: timestamp (nullable = true)\n",
      " |-- f_carga: timestamp (nullable = false)\n",
      " |-- tipomovimiento: string (nullable = false)\n",
      "\n"
     ]
    }
   ],
   "source": [
    "veto.printSchema()"
   ]
  }
 ],
 "metadata": {
  "kernelspec": {
   "display_name": "PySpark Python3 - Spark 2.1.0",
   "language": "python",
   "name": "spark2python3"
  },
  "language_info": {
   "codemirror_mode": {
    "name": "ipython",
    "version": 3
   },
   "file_extension": ".py",
   "mimetype": "text/x-python",
   "name": "python",
   "nbconvert_exporter": "python",
   "pygments_lexer": "ipython3",
   "version": "3.5.2"
  }
 },
 "nbformat": 4,
 "nbformat_minor": 2
}
